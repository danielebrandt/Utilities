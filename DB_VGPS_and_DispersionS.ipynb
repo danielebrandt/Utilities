{
 "cells": [
  {
   "cell_type": "markdown",
   "metadata": {},
   "source": [
    "# Notebook for calculating VGPs and dispersion S\n",
    "\n",
    "## Formato do Wellington\n",
    "\n",
    "\n",
    " It contains the calculation of VGPs from a Dec, Inc, Slat, Slon table and dispersion S of VGPS with bootstraping confidence regions using fixed or variable cutoff (Vandamme, 1994).  \n",
    " \n",
    " __VGPs__  - Virtual Geomagnetic Poles  \n",
    " __Dec__ and __Inc__ - Declination and Inclination of magnetization  \n",
    " __Slat__ and __Slon__ - Latitude and Longitude of the site   \n",
    " \n",
    "For runing the cells: __select the cell__ and press __Shift+Enter__\n"
   ]
  },
  {
   "cell_type": "code",
   "execution_count": 1,
   "metadata": {
    "collapsed": true
   },
   "outputs": [],
   "source": [
    "import Dani_utilities_for_Git as db\n",
    "import numpy as np"
   ]
  },
  {
   "cell_type": "markdown",
   "metadata": {},
   "source": [
    "Load a file containing the sequency of columns:\n",
    "\n",
    "Dec Inc SLat Slon\n",
    "\n",
    "As the \"Example.dat\" \n",
    "\n",
    "Choose the name of the file you want upload:"
   ]
  },
  {
   "cell_type": "code",
   "execution_count": 2,
   "metadata": {
    "collapsed": true
   },
   "outputs": [],
   "source": [
    "name_of_file = 'Example.dat'"
   ]
  },
  {
   "cell_type": "markdown",
   "metadata": {},
   "source": [
    "# What kind of cut-off you want?\n",
    "\n",
    "If you want __Vandamme__ cut set __vand=1__ and __A=0__\n",
    "\n",
    "If you want __Fixed cutoff__ set __vand=0__ and __A__ with the value that you want to cut, you can put 45º for example (__A=45__)\n",
    "\n",
    "Set also the __number of bootstrap realizations__ you want. Example: NB = 1000."
   ]
  },
  {
   "cell_type": "code",
   "execution_count": 3,
   "metadata": {
    "collapsed": true
   },
   "outputs": [],
   "source": [
    "vand = 1\n",
    "A = 0\n",
    "NB = 1000"
   ]
  },
  {
   "cell_type": "markdown",
   "metadata": {},
   "source": [
    "# RUN the bellow parts"
   ]
  },
  {
   "cell_type": "code",
   "execution_count": 4,
   "metadata": {
    "collapsed": true
   },
   "outputs": [],
   "source": [
    "#load the file into an array called 'File'\n",
    "File = np.loadtxt(name_of_file)\n",
    "#creat an 5 columns array, with the same number of lines as 'File' - called 'DI'\n",
    "DI=np.zeros([len(File),5])\n",
    "# Put the first two columns of 'File' into the first two columns of 'DI' \n",
    "DI[:,0:2]=File[:,0:2]\n",
    "# Put the last two columns of 'File' into the last two columns of 'DI' \n",
    "DI[:,3:5]=File[:,2:4]\n",
    "#N is the total number of data\n",
    "N = len(File)\n",
    "# calculating the VGPs\n",
    "VGPS = db.dir2vgp_severalplaces(DI)\n",
    "# calculating the dispersion of VGPs\n",
    "S = db.dispS(VGPS[:,0:2])\n",
    "# doing the bootstraping\n",
    "Sboot = db.dispS_boot(VGPS[:,0:2],NB)\n",
    "# calculating the dispersion S using the cutoff of vandamme\n",
    "if NB==0:\n",
    "    boot=0.\n",
    "else:\n",
    "    boot=1\n",
    "Svan = db.Scut(VGPS[:,0:2], boot,vand, A, NB)\n",
    "# taking the VGPs that were discarded\n",
    "VGPS_c=db.Cut_VGPS(VGPS,vand,A)"
   ]
  },
  {
   "cell_type": "markdown",
   "metadata": {},
   "source": [
    "### Print the results\n",
    "\n",
    "Where:\n",
    "\n",
    "__N__ is the total number of data  \n",
    "__S__ is the dispersion of VGPS  \n",
    "__Sl__ is the lower limit of the 95% of confidence (using NB bootstraping realizations)  \n",
    "__Su__ is the upper limit of the 95% of confidence (using NB bootstraping realizations)  \n",
    "\n",
    "__Ncut__ is the total number of data that remained after the use of a cutoff angle  \n",
    "__Scut__ is the dispersion of VGPS that remained after the use of a cutoff angle  \t\n",
    "__Scutl__ and __Scutu__ are the limits of 95% of confidence (using NB bootstraping realizations)  \n",
    "__Acut__ is the final cutoff angle.  \n"
   ]
  },
  {
   "cell_type": "code",
   "execution_count": 5,
   "metadata": {},
   "outputs": [
    {
     "name": "stdout",
     "output_type": "stream",
     "text": [
      "Dec \tInc \tSLat \tSlon \tVGPLon \tVGPLat \tY-1/No-0\n",
      "110.4 \t70.7 \t-40.3 \t287.6 \t335.0 \t-43.0 \t1\n",
      "163.4 \t72.9 \t-40.3 \t287.6 \t312.4 \t-69.1 \t1\n",
      "136.5 \t69.8 \t-40.1 \t287.7 \t338.0 \t-58.0 \t1\n",
      "27.7 \t84.7 \t-40.1 \t287.8 \t293.4 \t-30.7 \t1\n",
      "189.3 \t78.6 \t-40.1 \t287.7 \t280.4 \t-61.6 \t1\n",
      "172.4 \t64.4 \t-40.1 \t287.8 \t327.5 \t-81.8 \t1\n",
      "110.0 \t50.2 \t-40.3 \t287.6 \t3.5 \t-33.8 \t1\n",
      "\n",
      "N \tS \tSl \tSu \tNcut \tScut \tScutl \tScutu \tAcut\n",
      "7 \t25.7 \t14.3 \t30.3 \t7  \t25.7 \t14.3 \t30.8 \t51.3\n",
      "\n"
     ]
    }
   ],
   "source": [
    "print('Dec \\tInc \\tSLat \\tSlon \\tVGPLon \\tVGPLat \\tY-1/No-0')\n",
    "for j in range(len(File)):\n",
    "    print('%.1f \\t%.1f \\t%.1f \\t%.1f \\t%.1f \\t%.1f \\t%i' \n",
    "        %(DI[j,0],DI[j,1],DI[j,3],DI[j,4], VGPS[j,0],VGPS[j,1],int(VGPS_c[j,2])))\n",
    "print('')\n",
    "print('N \\tS \\tSl \\tSu \\tNcut \\tScut \\tScutl \\tScutu \\tAcut')\n",
    "print('%i \\t%.1f \\t%.1f \\t%.1f \\t%i  \\t%.1f \\t%.1f \\t%.1f \\t%.1f\\n'\n",
    "                 %(N, S, Sboot[0], Sboot[1], Svan[0],Svan[1],Svan[2],Svan[3],Svan[4]))"
   ]
  },
  {
   "cell_type": "code",
   "execution_count": null,
   "metadata": {
    "collapsed": true
   },
   "outputs": [],
   "source": []
  }
 ],
 "metadata": {
  "kernelspec": {
   "display_name": "Python 3",
   "language": "python",
   "name": "python3"
  },
  "language_info": {
   "codemirror_mode": {
    "name": "ipython",
    "version": 3
   },
   "file_extension": ".py",
   "mimetype": "text/x-python",
   "name": "python",
   "nbconvert_exporter": "python",
   "pygments_lexer": "ipython3",
   "version": "3.6.2"
  }
 },
 "nbformat": 4,
 "nbformat_minor": 2
}
