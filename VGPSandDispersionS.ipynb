{
 "cells": [
  {
   "attachments": {
    "image.png": {
     "image/png": "[encoded data removed]"
    }
   },
   "cell_type": "markdown",
   "metadata": {},
   "source": [
    "# Notebook for calculating VGPs and dispersion S\n",
    "\n",
    "It contains the calculation of __VGPs__ from a __Dec__, __Inc__, __$\\alpha_{95}$__, __Slat__, __Slon__ table (text file) and dispersion __S__ of __VGPS__ with bootstraping confidence regions using fixed or variable cutoff (Vandamme, 1994).  \n",
    "\n",
    "\n",
    "First you have to upload a text file with the columns: Dec Inc alpha95 Slat Slon using the buttom 'upload'.  \n",
    "\n",
    "![image.png](attachment:image.png)\n",
    "\n",
    "\n",
    "\n",
    " \n",
    " __VGPs__  - Virtual Geomagnetic Poles  \n",
    " __Dec__ and __Inc__ - Declination and Inclination of magnetization  \n",
    " __$\\alpha_{95}$__ - Angle of 95% confidence of the direction(Fisher 1953).  \n",
    " __Slat__ and __Slon__ - Latitude and Longitude of the site   \n",
    " \n",
    "   \n",
    "     \n",
    "       \n",
    "         \n",
    "           \n",
    " \n",
    " \n",
    " The example file 'Example1.dat' are data from Kiaman times (Bazhenov et al., 2016)\n",
    "   \n",
    "     \n",
    "       \n",
    "         \n",
    "           \n",
    " \n",
    " \n",
    " \n",
    "# For runing the cells: __select the cell__ and press __Shift+Enter__\n",
    "\n",
    "\n",
    "\n",
    "# RUN the bellow parts\n",
    "\n",
    "### For runing the cells: select the cell and press Shift+Enter\n",
    "\n",
    "[\\*] means that the cell is runing\n",
    "\n",
    "[a number inside] means that the cell has already run\n",
    "\n",
    "[] - empty means that the cell hasn't run yet\n"
   ]
  },
  {
   "cell_type": "code",
   "execution_count": null,
   "metadata": {},
   "outputs": [],
   "source": [
    "import Dani_utilities_for_Git as db\n",
    "import numpy as np\n",
    "\n",
    "name_of_file = 'Example1.dat'\n",
    "\n",
    "DI = np.loadtxt(name_of_file)\n",
    "\n",
    "print('Your data:')\n",
    "print('# \\tDec \\tInc \\ta95 \\tSLat \\tSlon')\n",
    "for j in range(len(DI)):\n",
    "    print('%.i \\t%.1f \\t%.1f \\t%.1f \\t%.1f \\t%.1f' %((j+1), DI[j,0],DI[j,1],DI[j,2],DI[j,3], DI[j,4]))"
   ]
  },
  {
   "cell_type": "markdown",
   "metadata": {},
   "source": [
    "# Calculating VGPs and dp/dm confidence limits"
   ]
  },
  {
   "cell_type": "code",
   "execution_count": null,
   "metadata": {},
   "outputs": [],
   "source": [
    "VGPS = db.dir2vgp_severalplaces(DI)\n",
    "print('The VGPs:')\n",
    "print('Number \\tVGPLon \\tVGPLat \\tdm \\tdp')\n",
    "for j in range(len(DI)):\n",
    "    print('%.i \\t%.1f \\t%.1f \\t%.1f \\t%.1f' %((j+1), VGPS[j,0],VGPS[j,1],VGPS[j,2],VGPS[j,3]))"
   ]
  },
  {
   "cell_type": "markdown",
   "metadata": {},
   "source": [
    "# Calculating the Dispersion S from VGPS:\n",
    "\n",
    "## What kind of cut-off you want?\n",
    "\n",
    "If you want __Vandamme__ iterative method set: __vand=1__ and __A=0__\n",
    "\n",
    "If you want __Fixed cutoff__ set __vand=0__ and __A__ with the value that you want to cut, you can put 45º for example (__A=45__)\n",
    "\n",
    "Set also the __number of bootstrap realizations__ you want. Example: NB = 1000."
   ]
  },
  {
   "cell_type": "code",
   "execution_count": null,
   "metadata": {
    "collapsed": true
   },
   "outputs": [],
   "source": [
    "vand = 1\n",
    "A = 0\n",
    "NB = 1000"
   ]
  },
  {
   "cell_type": "markdown",
   "metadata": {},
   "source": [
    "# RUN the bellow parts\n",
    "\n",
    "### For runing the cells: select the cell and press Shift+Enter\n",
    "\n",
    "[\\*] means that the cell is runing\n",
    "\n",
    "[a number inside] means that the cell has already run\n",
    "\n",
    "[] - empty means that the cell hasn't run yet"
   ]
  },
  {
   "cell_type": "markdown",
   "metadata": {},
   "source": [
    "Calculating the number of sites \"N\":"
   ]
  },
  {
   "cell_type": "code",
   "execution_count": null,
   "metadata": {
    "collapsed": true
   },
   "outputs": [],
   "source": [
    "N = len(DI)"
   ]
  },
  {
   "cell_type": "markdown",
   "metadata": {},
   "source": [
    "Calculating the Dispersion \"S\" of VGPS"
   ]
  },
  {
   "cell_type": "code",
   "execution_count": null,
   "metadata": {
    "collapsed": true
   },
   "outputs": [],
   "source": [
    "S = db.dispS(VGPS[:,0:2])"
   ]
  },
  {
   "cell_type": "markdown",
   "metadata": {},
   "source": [
    "Bootstraping"
   ]
  },
  {
   "cell_type": "code",
   "execution_count": null,
   "metadata": {
    "collapsed": true
   },
   "outputs": [],
   "source": [
    "Sboot = db.dispS_boot(VGPS[:,0:2],NB)"
   ]
  },
  {
   "cell_type": "markdown",
   "metadata": {},
   "source": [
    "Calculating the S value using a cutoff angle"
   ]
  },
  {
   "cell_type": "code",
   "execution_count": null,
   "metadata": {
    "collapsed": true
   },
   "outputs": [],
   "source": [
    "if NB==0:\n",
    "    boot=0.\n",
    "else:\n",
    "    boot=1\n",
    "Scut = db.Scut(VGPS[:,0:2], boot,vand, A, NB)"
   ]
  },
  {
   "cell_type": "markdown",
   "metadata": {},
   "source": [
    "Searching for the discarded data:"
   ]
  },
  {
   "cell_type": "code",
   "execution_count": null,
   "metadata": {
    "collapsed": true
   },
   "outputs": [],
   "source": [
    "VGPS_c=db.Cut_VGPS(VGPS,vand,A)"
   ]
  },
  {
   "cell_type": "markdown",
   "metadata": {},
   "source": [
    "### Print the results\n",
    "\n",
    "Where:\n",
    "\n",
    "__N__ is the total number of data  \n",
    "__S__ is the dispersion of VGPS  \n",
    "__Sl__ is the lower limit of the 95% of confidence (using NB bootstraping realizations)  \n",
    "__Su__ is the upper limit of the 95% of confidence (using NB bootstraping realizations)  \n",
    "\n",
    "__Ncut__ is the total number of data that remained after the use of a cutoff angle  \n",
    "__Scut__ is the dispersion of VGPS that remained after the use of a cutoff angle  \t\n",
    "__Scutl__ and __Scutu__ are the limits of 95% of confidence (using NB bootstraping realizations)  \n",
    "__Acut__ is the final cutoff angle.  \n",
    "\n",
    "__Y-1/No-0__ 1 for considered data and 0 for cutted data  \n",
    "\n",
    "\n"
   ]
  },
  {
   "cell_type": "code",
   "execution_count": null,
   "metadata": {},
   "outputs": [],
   "source": [
    "print('# \\tDec \\tInc \\ta95 \\tSLat \\tSlon \\tVGPLon \\tVGPLat \\tdm \\tdp \\tY-1/No-0')\n",
    "for j in range(len(DI)):\n",
    "    print('%i \\t%.1f \\t%.1f \\t%.1f \\t%.1f \\t%.1f \\t%.1f \\t%.1f \\t%.1f \\t%.1f \\t%i' \n",
    "        %((j+1),DI[j,0],DI[j,1],DI[j,2],DI[j,3],DI[j,4], VGPS[j,0],VGPS[j,1],VGPS[j,2],VGPS[j,3],int(VGPS_c[j,2])))\n",
    "print('')\n",
    "print('N \\tS \\tSl \\tSu \\tNcut \\tScut \\tScutl \\tScutu \\tAcut')\n",
    "print('%i \\t%.1f \\t%.1f \\t%.1f \\t%i  \\t%.1f \\t%.1f \\t%.1f \\t%.1f\\n'\n",
    "                 %(N, S, Sboot[0], Sboot[1], Scut[0],Scut[1],Scut[2],Scut[3],Scut[4]))"
   ]
  },
  {
   "cell_type": "code",
   "execution_count": null,
   "metadata": {
    "collapsed": true
   },
   "outputs": [],
   "source": []
  }
 ],
 "metadata": {
  "kernelspec": {
   "display_name": "Python 3",
   "language": "python",
   "name": "python3"
  },
  "language_info": {
   "codemirror_mode": {
    "name": "ipython",
    "version": 3
   },
   "file_extension": ".py",
   "mimetype": "text/x-python",
   "name": "python",
   "nbconvert_exporter": "python",
   "pygments_lexer": "ipython3",
   "version": "3.6.2"
  }
 },
 "nbformat": 4,
 "nbformat_minor": 2
}
